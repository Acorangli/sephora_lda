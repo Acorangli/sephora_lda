{
 "cells": [
  {
   "cell_type": "code",
   "execution_count": 1,
   "id": "ee7b41b2",
   "metadata": {},
   "outputs": [],
   "source": [
    "import pandas as pd\n",
    "from nltk.tokenize import RegexpTokenizer\n",
    "from nltk.corpus import stopwords\n",
    "from nltk.stem.wordnet import WordNetLemmatizer\n",
    "from nltk import pos_tag\n",
    "from gensim.models import Phrases\n",
    "from gensim.corpora import Dictionary\n",
    "import gensim\n",
    "import re"
   ]
  },
  {
   "cell_type": "code",
   "execution_count": 2,
   "id": "e2af919e",
   "metadata": {},
   "outputs": [
    {
     "name": "stderr",
     "output_type": "stream",
     "text": [
      "/var/folders/bm/2_7kzyhj1nd2kzn6myjfln740000gn/T/ipykernel_24431/2370960914.py:1: DtypeWarning: Columns (0) have mixed types. Specify dtype option on import or set low_memory=False.\n",
      "  df = pd.read_csv('sephora_reviews_0420.csv')\n"
     ]
    }
   ],
   "source": [
    "df = pd.read_csv('sephora_reviews_0420.csv')"
   ]
  },
  {
   "cell_type": "markdown",
   "id": "809dc11d",
   "metadata": {},
   "source": [
    "### Part 1 Data Processing"
   ]
  },
  {
   "cell_type": "markdown",
   "id": "43c6bf0b",
   "metadata": {},
   "source": [
    "#### 1.1 Cleanser Review DFs"
   ]
  },
  {
   "cell_type": "code",
   "execution_count": 3,
   "id": "0eeb1690",
   "metadata": {},
   "outputs": [],
   "source": [
    "winter_cleansers = [\n",
    "    \"Soy Hydrating Gentle Face Cleanser\",\n",
    "    \"Green Clean Makeup Removing Cleansing Balm\",\n",
    "    \"Green Clean Makeup Meltaway Cleansing Balm Limited Edition Jumbo\",\n",
    "    \"Superfood Antioxidant Cleanser\",\n",
    "    \"Glow2OH Dark Spot Toner\"\n",
    "]\n",
    "\n",
    "win_cln = df[df['product_name'].isin(winter_cleansers)]"
   ]
  },
  {
   "cell_type": "code",
   "execution_count": 4,
   "id": "533f01a6",
   "metadata": {},
   "outputs": [],
   "source": [
    "win_cln_pos = win_cln[win_cln['rating'].isin([4,5]) & win_cln['month'].isin([12, 1, 2])]\n",
    "# win_cln_pos"
   ]
  },
  {
   "cell_type": "code",
   "execution_count": 5,
   "id": "0ebc6f01",
   "metadata": {},
   "outputs": [],
   "source": [
    "win_cln_neg = win_cln[win_cln['rating'].isin([1,2]) & win_cln['month'].isin([12, 1, 2])]\n",
    "# win_cln_pos"
   ]
  },
  {
   "cell_type": "code",
   "execution_count": 6,
   "id": "027616ce",
   "metadata": {},
   "outputs": [],
   "source": [
    "spring_cleansers = [\n",
    "  \"Soy Hydrating Gentle Face Cleanser\",\n",
    "  \"Green Clean Makeup Removing Cleansing Balm\",\n",
    "  \"Green Clean Makeup Meltaway Cleansing Balm Limited Edition Jumbo\",\n",
    "  \"Superfood Antioxidant Cleanser\",\n",
    "  \"Greek Yoghurt Foaming Cream Cleanser\"\n",
    "]\n",
    "\n",
    "# Filter the original DataFrame based on product names\n",
    "spr_cln = df[df['product_name'].isin(spring_cleansers)]"
   ]
  },
  {
   "cell_type": "code",
   "execution_count": 7,
   "id": "7ea598e4",
   "metadata": {},
   "outputs": [],
   "source": [
    "spr_cln_pos = spr_cln[spr_cln['rating'].isin([4,5]) & spr_cln['month'].isin([3, 4, 5])]\n",
    "# spr_cln_pos"
   ]
  },
  {
   "cell_type": "code",
   "execution_count": 8,
   "id": "ad65e70f",
   "metadata": {},
   "outputs": [],
   "source": [
    "spr_cln_neg = spr_cln[spr_cln['rating'].isin([1,2]) & spr_cln['month'].isin([3, 4, 5])]\n",
    "# spr_cln_neg"
   ]
  },
  {
   "cell_type": "code",
   "execution_count": 9,
   "id": "4a0cea89",
   "metadata": {},
   "outputs": [],
   "source": [
    "summer_cleansers = [\"Soy Hydrating Gentle Face Cleanser\",\n",
    "                    \"Green Clean Makeup Removing Cleansing Balm\",\n",
    "                    \"Green Clean Makeup Meltaway Cleansing Balm Limited Edition Jumbo\",\n",
    "                    \"Superfood Antioxidant Cleanser\",\"Daily Microfoliant Exfoliator\"]\n",
    "\n",
    "sum_cln = df[df['product_name'].isin(summer_cleansers)]"
   ]
  },
  {
   "cell_type": "code",
   "execution_count": 10,
   "id": "8737c64d",
   "metadata": {},
   "outputs": [],
   "source": [
    "sum_cln_pos = sum_cln[sum_cln['rating'].isin([4,5]) & sum_cln['month'].isin([6, 7, 8])]\n",
    "# sum_cln_pos"
   ]
  },
  {
   "cell_type": "code",
   "execution_count": 11,
   "id": "59821ea0",
   "metadata": {},
   "outputs": [],
   "source": [
    "sum_cln_neg = sum_cln[sum_cln['rating'].isin([1,2]) & sum_cln['month'].isin([6, 7, 8])]\n",
    "# sum_cln_neg"
   ]
  },
  {
   "cell_type": "code",
   "execution_count": 12,
   "id": "089d52ed",
   "metadata": {},
   "outputs": [],
   "source": [
    "fall_cleansers = [\"Soy Hydrating Gentle Face Cleanser\", \"Green Clean Makeup Removing Cleansing Balm\", \n",
    "                  \"Green Clean Makeup Meltaway Cleansing Balm Limited Edition Jumbo\",  \n",
    "                  \"Superfood Antioxidant Cleanser\", \"Take The Day Off Cleansing Balm Makeup Remover\"]\n",
    "\n",
    "fall_cln = df[df['product_name'].isin(fall_cleansers)]"
   ]
  },
  {
   "cell_type": "code",
   "execution_count": 13,
   "id": "6b30727d",
   "metadata": {},
   "outputs": [],
   "source": [
    "fall_cln_pos = fall_cln[fall_cln['rating'].isin([4,5]) & fall_cln['month'].isin([9, 10, 11])]\n",
    "# fall_cln_pos"
   ]
  },
  {
   "cell_type": "code",
   "execution_count": 14,
   "id": "b8e04b46",
   "metadata": {},
   "outputs": [],
   "source": [
    "fall_cln_neg = fall_cln[fall_cln['rating'].isin([1,2]) & fall_cln['month'].isin([9, 10, 11])]\n",
    "# fall_cln_neg"
   ]
  },
  {
   "cell_type": "markdown",
   "id": "fb0bbb73",
   "metadata": {},
   "source": [
    "#### 1.2 Moisturizer Review DFs"
   ]
  },
  {
   "cell_type": "code",
   "execution_count": 15,
   "id": "ce8a621b",
   "metadata": {},
   "outputs": [],
   "source": [
    "winter_moisturizers = [ \"Ultra Repair Cream Intense Hydration\", \"Protini Polypeptide Firming Refillable Moisturizer\",\n",
    "                       \"Vitamin Enriched Face Base Priming Moisturizer\", \"Santorini Grape Poreless Skin Cream\", \n",
    "                       \"Revitalizing Supreme+ Youth Power Creme Moisturizer\"]\n",
    "\n",
    "win_moi = df[df['product_name'].isin(winter_moisturizers)]"
   ]
  },
  {
   "cell_type": "code",
   "execution_count": 17,
   "id": "6b8db3cf",
   "metadata": {},
   "outputs": [],
   "source": [
    "win_moi_pos = win_moi[win_moi['rating'].isin([4,5]) & win_moi['month'].isin([12, 1, 2])]\n",
    "# win_moi_pos"
   ]
  },
  {
   "cell_type": "code",
   "execution_count": 18,
   "id": "51bdb509",
   "metadata": {},
   "outputs": [],
   "source": [
    "win_moi_neg = win_moi[win_moi['rating'].isin([1,2]) & win_moi['month'].isin([12, 1, 2])]\n",
    "# win_moi_neg"
   ]
  },
  {
   "cell_type": "code",
   "execution_count": 19,
   "id": "bd49912d",
   "metadata": {},
   "outputs": [],
   "source": [
    "spring_moisturizers = [\"The True Cream Aqua Bomb\", \"Protini Polypeptide Firming Refillable Moisturizer\", \n",
    "                       \"Cicapair Tiger Grass Color Correcting Treatment SPF 30\", \"Greek Yoghurt Nourishing Probiotic Gel-Cream\",\n",
    "                       \"C-Rush Vitamin C Gel Moisturizer\"]\n",
    "\n",
    "spr_moi = df[df['product_name'].isin(spring_moisturizers)]"
   ]
  },
  {
   "cell_type": "code",
   "execution_count": 20,
   "id": "6a74ccb4",
   "metadata": {},
   "outputs": [],
   "source": [
    "spr_moi_pos = spr_moi[spr_moi['rating'].isin([4,5]) & spr_moi['month'].isin([3, 4, 5])]\n",
    "# spr_moi_pos"
   ]
  },
  {
   "cell_type": "code",
   "execution_count": 21,
   "id": "fd3d86cc",
   "metadata": {},
   "outputs": [],
   "source": [
    "spr_moi_neg = spr_moi[spr_moi['rating'].isin([1,2]) & spr_moi['month'].isin([3, 4, 5])]\n",
    "# spr_moi_neg"
   ]
  },
  {
   "cell_type": "code",
   "execution_count": 22,
   "id": "242626b4",
   "metadata": {},
   "outputs": [],
   "source": [
    "summer_moisturizers = [\"The True Cream Aqua Bomb\", \"Protini Polypeptide Firming Refillable Moisturizer\", \n",
    "                       \"Facial Treatment Essence (Pitera Essence)\" , \"Ultra Facial Moisturizing Cream with Squalane\",\n",
    "                       \"Confidence in a Cream Anti-Aging Hydrating Moisturizer\"]\n",
    "\n",
    "sum_moi = df[df['product_name'].isin(summer_moisturizers)]"
   ]
  },
  {
   "cell_type": "code",
   "execution_count": 23,
   "id": "eb80b8a0",
   "metadata": {},
   "outputs": [],
   "source": [
    "sum_moi_pos = sum_moi[sum_moi['rating'].isin([4,5]) & sum_moi['month'].isin([6, 7, 8])]\n",
    "# sum_moi_pos"
   ]
  },
  {
   "cell_type": "code",
   "execution_count": 24,
   "id": "0adbf533",
   "metadata": {},
   "outputs": [],
   "source": [
    "sum_moi_neg = sum_moi[sum_moi['rating'].isin([1,2]) & sum_moi['month'].isin([6, 7, 8])]\n",
    "# sum_moi_neg"
   ]
  },
  {
   "cell_type": "code",
   "execution_count": 25,
   "id": "47a1b042",
   "metadata": {},
   "outputs": [],
   "source": [
    "fall_moisturizers = [\"100 percent Pure Argan Oil\", \"Ultra Repair Cream Intense Hydration\", \n",
    "                     \"The True Cream Aqua Bomb\", \"Protini Polypeptide Firming Refillable Moisturizer\",\n",
    "                     \"Revitalizing Supreme+ Youth Power Creme Moisturizer\"]\n",
    "\n",
    "fall_moi = df[df['product_name'].isin(fall_moisturizers)]"
   ]
  },
  {
   "cell_type": "code",
   "execution_count": 26,
   "id": "63ccf7f8",
   "metadata": {},
   "outputs": [],
   "source": [
    "fall_moi_pos = fall_moi[fall_moi['rating'].isin([4,5]) & fall_moi['month'].isin([9, 10, 11])]\n",
    "# fall_moi_pos"
   ]
  },
  {
   "cell_type": "code",
   "execution_count": 28,
   "id": "7ee40f37",
   "metadata": {},
   "outputs": [],
   "source": [
    "fall_moi_neg = fall_moi[fall_moi['rating'].isin([1,2]) & fall_moi['month'].isin([9, 10, 11])]\n",
    "# fall_moi_neg"
   ]
  },
  {
   "cell_type": "markdown",
   "id": "1229a06d",
   "metadata": {},
   "source": [
    "#### 1.3 Treatments Review DFs"
   ]
  },
  {
   "cell_type": "code",
   "execution_count": 29,
   "id": "c880eb4f",
   "metadata": {},
   "outputs": [],
   "source": [
    "winter_treatments = [\n",
    "    \"Niacinamide 10% + Zinc 1% Oil Control Serum\",\n",
    "    \"Good Genes All-In-One AHA Lactic Acid Treatment\",\n",
    "    \"Salicylic Acid Acne Healing Dots\",\n",
    "    \"Hyaluronic Acid 2% + B5 Hydrating Serum\",\n",
    "    \"Skinlongevity Long Life Herb Anti-Aging Face Serum\"\n",
    "]\n",
    "\n",
    "win_tm = df[df['product_name'].isin(winter_treatments)]"
   ]
  },
  {
   "cell_type": "code",
   "execution_count": 30,
   "id": "9285c13d",
   "metadata": {},
   "outputs": [],
   "source": [
    "win_tm_pos = win_tm[(win_tm['rating'].isin([4, 5])) & (win_tm['month'].isin([12, 1, 2]))]\n",
    "# win_tm_pos"
   ]
  },
  {
   "cell_type": "code",
   "execution_count": 31,
   "id": "ae90e20f",
   "metadata": {},
   "outputs": [],
   "source": [
    "win_tm_neg = win_tm[(win_tm['rating'].isin([1, 2])) & (win_tm['month'].isin([12, 1, 2]))]\n",
    "# win_tm_neg"
   ]
  },
  {
   "cell_type": "code",
   "execution_count": 32,
   "id": "77d623d2",
   "metadata": {},
   "outputs": [],
   "source": [
    "# List of spring treatments\n",
    "spring_treatments = [\n",
    "    \"Alpha Beta Extra Strength Daily Peel Pads\",\n",
    "    \"Niacinamide 10% + Zinc 1% Oil Control Serum\",\n",
    "    \"Salicylic Acid Acne Healing Dots\",\n",
    "    \"Hyaluronic Acid 2% + B5 Hydrating Serum\",\n",
    "    \"AHA 30% + BHA 2% Exfoliating Peeling Solution\"\n",
    "]\n",
    "\n",
    "spr_tm = df[df['product_name'].isin(spring_treatments)]"
   ]
  },
  {
   "cell_type": "code",
   "execution_count": 33,
   "id": "c1738135",
   "metadata": {},
   "outputs": [],
   "source": [
    "spr_tm_pos = spr_tm[(spr_tm['rating'].isin([4, 5])) & (spr_tm['month'].isin([3, 4, 5]))]\n",
    "# spr_tm_pos"
   ]
  },
  {
   "cell_type": "code",
   "execution_count": 34,
   "id": "5c294dcd",
   "metadata": {},
   "outputs": [],
   "source": [
    "spr_tm_neg = spr_tm[(spr_tm['rating'].isin([1, 2])) & (spr_tm['month'].isin([3, 4, 5]))]\n",
    "# spr_tm_neg"
   ]
  },
  {
   "cell_type": "code",
   "execution_count": 35,
   "id": "0800e38c",
   "metadata": {},
   "outputs": [],
   "source": [
    "summer_treatments = [\n",
    "    \"Alpha Beta Extra Strength Daily Peel Pads\",\n",
    "    \"Niacinamide 10% + Zinc 1% Oil Control Serum\",\n",
    "    \"Salicylic Acid Acne Healing Dots\",\n",
    "    \"Skinlongevity Long Life Herb Anti-Aging Face Serum\",\n",
    "    \"Advanced Night Repair Eye Concentrate Matrix Synchronized Multi-Recovery Complex\"\n",
    "]\n",
    "\n",
    "sum_tm = df[df['product_name'].isin(summer_treatments)]"
   ]
  },
  {
   "cell_type": "code",
   "execution_count": 36,
   "id": "404054e0",
   "metadata": {},
   "outputs": [],
   "source": [
    "sum_tm_pos = sum_tm[(sum_tm['rating'].isin([4, 5])) & (sum_tm['month'].isin([6, 7, 8]))]\n",
    "# sum_tm_pos"
   ]
  },
  {
   "cell_type": "code",
   "execution_count": 37,
   "id": "7f612d4d",
   "metadata": {},
   "outputs": [],
   "source": [
    "sum_tm_neg = sum_tm[(sum_tm['rating'].isin([1, 2])) & (sum_tm['month'].isin([6, 7, 8]))]\n",
    "# sum_tm_neg"
   ]
  },
  {
   "cell_type": "code",
   "execution_count": 38,
   "id": "d60766ba",
   "metadata": {},
   "outputs": [],
   "source": [
    "fall_treatments = [\n",
    "    \"Alpha Beta Extra Strength Daily Peel Pads\",\n",
    "    \"Salicylic Acid Acne Healing Dots\",\n",
    "    \"Skinlongevity Long Life Herb Anti-Aging Face Serum\",\n",
    "    \"Estee Lauder Advanced Night Repair Synchronized Multi-Recovery Complex Serum\",\n",
    "    \"Benefiance Wrinkle Smoothing Retinol Serum\"\n",
    "]\n",
    "\n",
    "\n",
    "fall_tm = df[df['product_name'].isin(fall_treatments)]"
   ]
  },
  {
   "cell_type": "code",
   "execution_count": 39,
   "id": "3a1de4cd",
   "metadata": {},
   "outputs": [],
   "source": [
    "fall_tm_pos = fall_tm[(fall_tm['rating'].isin([4, 5])) & (fall_tm['month'].isin([9, 10, 11]))]\n",
    "# fall_tm_pos"
   ]
  },
  {
   "cell_type": "code",
   "execution_count": 40,
   "id": "52d03f69",
   "metadata": {},
   "outputs": [],
   "source": [
    "fall_tm_neg = fall_tm[(fall_tm['rating'].isin([1, 2])) & (fall_tm['month'].isin([9, 10, 11]))]\n",
    "# fall_tm_neg"
   ]
  },
  {
   "cell_type": "markdown",
   "id": "2fdb3411",
   "metadata": {},
   "source": [
    "#### 1.4 Masks Review Dfs"
   ]
  },
  {
   "cell_type": "code",
   "execution_count": 41,
   "id": "e11cfbca",
   "metadata": {},
   "outputs": [],
   "source": [
    "winter_masks = [\n",
    "    \"Jet Lag Mask\",\n",
    "    \"Mini Jet Lag Mask\",\n",
    "    \"Floral Recovery Overnight Mask with Squalane\",\n",
    "    \"F-Balm Electrolyte Waterfacial Mask\",\n",
    "    \"10% Niacinamide Night Mask\"\n",
    "]\n",
    "\n",
    "win_msk = df[df['product_name'].isin(winter_masks)]"
   ]
  },
  {
   "cell_type": "code",
   "execution_count": 42,
   "id": "f23b2242",
   "metadata": {},
   "outputs": [],
   "source": [
    "win_msk_pos = win_msk[(win_msk['rating'].isin([4, 5])) & (win_msk['month'].isin([12, 1, 2]))]\n",
    "# win_msk_pos"
   ]
  },
  {
   "cell_type": "code",
   "execution_count": 43,
   "id": "2f4b103d",
   "metadata": {},
   "outputs": [],
   "source": [
    "win_msk_neg = win_msk[(win_msk['rating'].isin([1, 2])) & (win_msk['month'].isin([12, 1, 2]))]\n",
    "# win_msk_neg"
   ]
  },
  {
   "cell_type": "code",
   "execution_count": 44,
   "id": "c85bdd38",
   "metadata": {},
   "outputs": [],
   "source": [
    "spring_masks = [\n",
    "    \"Clear Improvement Active Charcoal Mask to Clear Pores\",\n",
    "    \"Jet Lag Mask\",\n",
    "    \"Mini Jet Lag Mask\",\n",
    "    \"T.L.C. Sukari Babyfacial AHA + BHA Mask\",\n",
    "    \"Rose Face Mask\"\n",
    "]\n",
    "\n",
    "spr_msk = df[df['product_name'].isin(spring_masks)]"
   ]
  },
  {
   "cell_type": "code",
   "execution_count": 45,
   "id": "3578b39a",
   "metadata": {},
   "outputs": [],
   "source": [
    "spr_msk_pos = spr_msk[(spr_msk['rating'].isin([4, 5])) & (spr_msk['month'].isin([3, 4, 5]))]\n",
    "# spr_msk_pos"
   ]
  },
  {
   "cell_type": "code",
   "execution_count": 46,
   "id": "70ea47e8",
   "metadata": {},
   "outputs": [],
   "source": [
    "spr_msk_neg = spr_msk[(spr_msk['rating'].isin([1, 2])) & (spr_msk['month'].isin([3, 4, 5]))]\n",
    "# spr_msk_neg"
   ]
  },
  {
   "cell_type": "code",
   "execution_count": 47,
   "id": "f15356b4",
   "metadata": {},
   "outputs": [],
   "source": [
    "summer_masks = [\n",
    "    \"Jet Lag Mask\",\n",
    "    \"Mini Jet Lag Mask\",\n",
    "    \"T.L.C. Sukari Babyfacial AHA + BHA Mask\",\n",
    "    \"Clear Improvement Charcoal Honey Mask to Purify and Nourish\",\n",
    "    \"Watermelon Glow Hyaluronic Clay Pore-Tight Facial Mask\"\n",
    "]\n",
    "\n",
    "sum_msk = df[df['product_name'].isin(summer_masks)]"
   ]
  },
  {
   "cell_type": "code",
   "execution_count": 48,
   "id": "90162ca8",
   "metadata": {},
   "outputs": [],
   "source": [
    "sum_msk_pos = sum_msk[(sum_msk['rating'].isin([4, 5])) & (sum_msk['month'].isin([6, 7, 8]))]\n",
    "# sum_msk_pos"
   ]
  },
  {
   "cell_type": "code",
   "execution_count": 49,
   "id": "570a5827",
   "metadata": {},
   "outputs": [],
   "source": [
    "sum_msk_neg = sum_msk[(sum_msk['rating'].isin([1, 2])) & (sum_msk['month'].isin([6, 7, 8]))]\n",
    "# sum_msk_neg"
   ]
  },
  {
   "cell_type": "code",
   "execution_count": 50,
   "id": "bbe81ce9",
   "metadata": {},
   "outputs": [],
   "source": [
    "fall_masks = [\n",
    "    \"Clear Improvement Active Charcoal Mask to Clear Pores\",\n",
    "    \"Jet Lag Mask\",\n",
    "    \"Mini Jet Lag Mask\",\n",
    "    \"T.L.C. Sukari Babyfacial AHA + BHA Mask\",\n",
    "    \"Greek Yoghurt Probiotic Superdose Face Mask\"\n",
    "]\n",
    "\n",
    "fall_msk = df[df['product_name'].isin(fall_masks)]"
   ]
  },
  {
   "cell_type": "code",
   "execution_count": 51,
   "id": "64fa0f22",
   "metadata": {},
   "outputs": [],
   "source": [
    "fall_msk_pos = fall_msk[(fall_msk['rating'].isin([4, 5])) & (fall_msk['month'].isin([9, 10, 11]))]\n",
    "# fall_msk_pos"
   ]
  },
  {
   "cell_type": "code",
   "execution_count": 52,
   "id": "a16d335a",
   "metadata": {},
   "outputs": [],
   "source": [
    "fall_msk_neg = fall_msk[(fall_msk['rating'].isin([1, 2])) & (fall_msk['month'].isin([9, 10, 11]))]\n",
    "# fall_msk_neg"
   ]
  },
  {
   "cell_type": "markdown",
   "id": "4a70c1da",
   "metadata": {},
   "source": [
    "#### 1.5 Eye care review dfs"
   ]
  },
  {
   "cell_type": "code",
   "execution_count": 53,
   "id": "78893a87",
   "metadata": {},
   "outputs": [],
   "source": [
    "winter_eye_products = [\n",
    "    \"Moisturizing Eye Bomb with Squalane\",\n",
    "    \"Brighten-i Eye Cream\",\n",
    "    \"Shaba Complex Firming Eye Serum\",\n",
    "    \"Lotus Youth Preserve Eye Cream\",\n",
    "    \"Wake Up Honey Eye Cream with Brightening Vitamin C\"\n",
    "]\n",
    "\n",
    "winter_eye_df = df[df['product_name'].isin(winter_eye_products)]"
   ]
  },
  {
   "cell_type": "code",
   "execution_count": 54,
   "id": "3a5b6ac2",
   "metadata": {},
   "outputs": [],
   "source": [
    "win_eye_pos = winter_eye_df[(winter_eye_df['rating'].isin([4, 5])) & (winter_eye_df['month'].isin([12, 1, 2]))]\n",
    "# win_eye_pos"
   ]
  },
  {
   "cell_type": "code",
   "execution_count": 55,
   "id": "f37d0f69",
   "metadata": {},
   "outputs": [],
   "source": [
    "win_eye_neg = winter_eye_df[(winter_eye_df['rating'].isin([1, 2])) & (winter_eye_df['month'].isin([12, 1, 2]))]\n",
    "# win_eye_neg"
   ]
  },
  {
   "cell_type": "code",
   "execution_count": 56,
   "id": "b08328ae",
   "metadata": {},
   "outputs": [],
   "source": [
    "spring_eye_products = [\n",
    "    \"Moisturizing Eye Bomb with Squalane\",\n",
    "    \"Powerful-Strength Dark Circle Reducing Vitamin C Eye Serum\",\n",
    "    \"Double Serum Eye Firming & Hydrating Anti-Aging Concentrate\",\n",
    "    \"Wrinkle Blur Bakuchiol Eye Gel Crème\",\n",
    "    \"Super Multi-Corrective Anti-Aging Eye Cream\"\n",
    "]\n",
    "\n",
    "spring_eye_df = df[df['product_name'].isin(spring_eye_products)]"
   ]
  },
  {
   "cell_type": "code",
   "execution_count": 58,
   "id": "6a1f4f47",
   "metadata": {},
   "outputs": [],
   "source": [
    "spr_eye_pos = spring_eye_df[(spring_eye_df['rating'].isin([4, 5])) & (spring_eye_df['month'].isin([3, 4, 5]))]\n",
    "# spr_eye_pos"
   ]
  },
  {
   "cell_type": "code",
   "execution_count": 60,
   "id": "9f317451",
   "metadata": {},
   "outputs": [],
   "source": [
    "spr_eye_neg = spring_eye_df[(spring_eye_df['rating'].isin([1, 2])) & (spring_eye_df['month'].isin([3, 4, 5]))]\n",
    "# spr_eye_neg"
   ]
  },
  {
   "cell_type": "code",
   "execution_count": 61,
   "id": "485070d1",
   "metadata": {},
   "outputs": [],
   "source": [
    "summer_eye_products = [\n",
    "    \"Moisturizing Eye Bomb with Squalane\",\n",
    "    \"Capture Totale Super Potent Eye Serum\",\n",
    "    \"Advanced Génifique Wrinkle & Dark Circle Eye Cream\",\n",
    "    \"GOOPGENES All-In-One Nourishing Eye Cream\",\n",
    "    \"Banana Bright+ Vitamin C Eye Crème\"\n",
    "]\n",
    "\n",
    "sum_eye_df = df[df['product_name'].isin(summer_eye_products)]"
   ]
  },
  {
   "cell_type": "code",
   "execution_count": 62,
   "id": "0b4e5e3e",
   "metadata": {},
   "outputs": [],
   "source": [
    "sum_eye_pos = sum_eye_df[(sum_eye_df['rating'].isin([4, 5])) & (sum_eye_df['month'].isin([6, 7, 8]))]\n",
    "# sum_eye_pos"
   ]
  },
  {
   "cell_type": "code",
   "execution_count": 63,
   "id": "6b00a564",
   "metadata": {},
   "outputs": [],
   "source": [
    "sum_eye_neg = sum_eye_df[(sum_eye_df['rating'].isin([1, 2])) & (sum_eye_df['month'].isin([6, 7, 8]))]\n",
    "# sum_eye_neg"
   ]
  },
  {
   "cell_type": "code",
   "execution_count": 65,
   "id": "ba40aa66",
   "metadata": {},
   "outputs": [],
   "source": [
    "fall_eye_products = [\n",
    "    \"Moisturizing Eye Bomb with Squalane\",\n",
    "    \"Advanced Génifique Yeux Light-Pearl Eye Serum\",\n",
    "    \"Ginzing Vitamin C Eye Cream to Brighten and Depuff\",\n",
    "    \"Guava Vitamin C Bright-Eye Gel Cream\",\n",
    "    \"Cryo-Recovery Depuffing Eye Serum\"\n",
    "]\n",
    "\n",
    "fall_eye_df = df[df['product_name'].isin(fall_eye_products)]"
   ]
  },
  {
   "cell_type": "code",
   "execution_count": 66,
   "id": "fafc9b0f",
   "metadata": {},
   "outputs": [],
   "source": [
    "fall_eye_pos = fall_eye_df[(fall_eye_df['rating'].isin([4, 5])) & (fall_eye_df['month'].isin([9, 10, 11]))]\n",
    "# fall_eye_pos"
   ]
  },
  {
   "cell_type": "code",
   "execution_count": 67,
   "id": "4a735d15",
   "metadata": {},
   "outputs": [],
   "source": [
    "fall_eye_neg = fall_eye_df[(fall_eye_df['rating'].isin([1, 2])) & (fall_eye_df['month'].isin([9, 10, 11]))]\n",
    "# fall_eye_neg"
   ]
  },
  {
   "cell_type": "markdown",
   "id": "087e5430",
   "metadata": {},
   "source": [
    "### Part 2 Building the function"
   ]
  },
  {
   "cell_type": "markdown",
   "id": "f19b159c",
   "metadata": {},
   "source": [
    "win_cln_pos\n",
    "spr_cln_pos\n",
    "sum_cln_pos\n",
    "fall_cln_pos\n",
    "\n",
    "win_cln_neg\n",
    "spr_cln_neg\n",
    "sum_cln_neg\n",
    "fall_cln_neg\n",
    "\n",
    "win_moi_pos\n",
    "spr_moi_pos\n",
    "sum_moi_pos\n",
    "fall_moi_pos\n",
    "\n",
    "win_moi_neg\n",
    "spr_moi_neg\n",
    "sum_moi_neg\n",
    "fall_moi_neg\n",
    "\n",
    "win_tm_pos\n",
    "spr_tm_pos\n",
    "sum_tm_pos\n",
    "fall_tm_pos\n",
    "\n",
    "win_tm_neg\n",
    "spr_tm_neg\n",
    "sum_tm_neg\n",
    "fall_tm_neg\n",
    "\n",
    "win_msk_pos\n",
    "spr_msk_pos\n",
    "sum_msk_pos\n",
    "fall_msk_pos\n",
    "\n",
    "win_msk_neg\n",
    "spr_msk_neg\n",
    "sum_msk_neg\n",
    "fall_msk_neg\n",
    "\n",
    "win_eye_pos\n",
    "spr_eye_pos\n",
    "sum_eye_pos\n",
    "fall_eye_pos\n",
    "\n",
    "win_eye_neg\n",
    "spr_eye_neg\n",
    "sum_eye_neg\n",
    "fall_eye_neg"
   ]
  },
  {
   "cell_type": "code",
   "execution_count": 69,
   "id": "33d3b14e",
   "metadata": {},
   "outputs": [],
   "source": [
    "def TopicModeling(review_df):\n",
    "\n",
    "    review_df = review_df.fillna('No review')\n",
    "\n",
    "    # Convert the review_text into a list\n",
    "    docs = review_df['review_text'].tolist()\n",
    "\n",
    "    tokenizer = RegexpTokenizer(r'\\w+')\n",
    "    docs = [tokenizer.tokenize(doc.lower()) for doc in docs]\n",
    "\n",
    "    # Remove numeric tokens\n",
    "    docs = [[token for token in doc if not token.isnumeric()] for doc in docs]\n",
    "\n",
    "    # Remove stopwords\n",
    "    stop_words = set(stopwords.words('english'))\n",
    "    docs = [[token for token in doc if token not in stop_words] for doc in docs]\n",
    "\n",
    "    # POS tagging\n",
    "    docs = [pos_tag(doc) for doc in docs]\n",
    "\n",
    "    # Extract nouns (NN) and adjectives (JJ)\n",
    "    docs = [[token[0] for token in doc if token[1] in ['NN', 'NNS', 'JJ', 'JJR', 'JJS']] for doc in docs]\n",
    "\n",
    "    # Lemmatize tokens\n",
    "    lemmatizer = WordNetLemmatizer()\n",
    "    docs = [[lemmatizer.lemmatize(token) for token in doc] for doc in docs]\n",
    "\n",
    "    # Add bigrams to documents\n",
    "    bigram = Phrases(docs, min_count=10)\n",
    "    for idx in range(len(docs)):\n",
    "        for token in bigram[docs[idx]]:\n",
    "            if '_' in token:\n",
    "                docs[idx].append(token)\n",
    "\n",
    "    # Create a dictionary representation of the documents\n",
    "    dictionary = Dictionary(docs)\n",
    "\n",
    "    # Filter out words that occur less than 10 documents or more than 80% of the documents\n",
    "    dictionary.filter_extremes(no_below=10, no_above=0.8)\n",
    "\n",
    "    # Create a bag-of-words representation of the documents\n",
    "    corpus = [dictionary.doc2bow(doc) for doc in docs]\n",
    "\n",
    "    # Build an LDA model\n",
    "    num_topics = 5\n",
    "    chunksize = 2000\n",
    "    passes = 20\n",
    "    iterations = 100\n",
    "    eval_every = 1\n",
    "\n",
    "    lda = gensim.models.LdaModel(\n",
    "        corpus=corpus,\n",
    "        id2word=dictionary,\n",
    "        chunksize=chunksize,\n",
    "        alpha='auto',\n",
    "        eta='auto',\n",
    "        iterations=iterations,\n",
    "        num_topics=num_topics,\n",
    "        passes=passes,\n",
    "        eval_every=eval_every\n",
    "    )\n",
    "\n",
    "    # Print topics\n",
    "    for i, topic in lda.print_topics(num_topics=num_topics):\n",
    "        print(f'Top 10 words for topic #{i + 1}:')\n",
    "        print(\",\".join(re.findall('\".*?\"', topic)))  # Find all strings wrapped in double quotes.\n",
    "        print('\\n')"
   ]
  },
  {
   "cell_type": "markdown",
   "id": "e236d3b9",
   "metadata": {},
   "source": [
    "### Part 3 topic modeling with LDA"
   ]
  },
  {
   "cell_type": "markdown",
   "id": "edf16317",
   "metadata": {},
   "source": [
    "#### 3.1 Seasonal moisturizer review topics"
   ]
  },
  {
   "cell_type": "code",
   "execution_count": 71,
   "id": "019ed218",
   "metadata": {},
   "outputs": [
    {
     "name": "stdout",
     "output_type": "stream",
     "text": [
      "Top 10 words for topic #1:\n",
      "\"skin\",\"dry\",\"product\",\"cream\",\"winter\",\"moisturizer\",\"face\",\"sensitive\",\"use\",\"great\"\n",
      "\n",
      "\n",
      "Top 10 words for topic #2:\n",
      "\"skin\",\"cream\",\"size\",\"pore\",\"sample\",\"face\",\"use\",\"feel\",\"product\",\"difference\"\n",
      "\n",
      "\n",
      "Top 10 words for topic #3:\n",
      "\"skin\",\"feel\",\"product\",\"soft\",\"cream\",\"scent\",\"face\",\"moisturizer\",\"great\",\"smooth\"\n",
      "\n",
      "\n",
      "Top 10 words for topic #4:\n",
      "\"product\",\"influenster\",\"review\",\"honest\",\"skin\",\"free\",\"complimentary\",\"lauder\",\"exchange\",\"sample\"\n",
      "\n",
      "\n",
      "Top 10 words for topic #5:\n",
      "\"skin\",\"makeup\",\"product\",\"moisturizer\",\"primer\",\"great\",\"base\",\"face\",\"foundation\",\"way\"\n",
      "\n",
      "\n"
     ]
    }
   ],
   "source": [
    "# Positive moisturizer in winter\n",
    "TopicModeling(win_moi_pos)"
   ]
  },
  {
   "cell_type": "code",
   "execution_count": 72,
   "id": "d0e9e68d",
   "metadata": {},
   "outputs": [
    {
     "name": "stdout",
     "output_type": "stream",
     "text": [
      "Top 10 words for topic #1:\n",
      "\"c\",\"ole\",\"vitamin\",\"henriksen\",\"redness\",\"product\",\"ole_henriksen\",\"vitamin_c\",\"line\",\"serum\"\n",
      "\n",
      "\n",
      "Top 10 words for topic #2:\n",
      "\"face\",\"smell\",\"feel\",\"skin\",\"soft\",\"product\",\"morning\",\"cream\",\"love\",\"night\"\n",
      "\n",
      "\n",
      "Top 10 words for topic #3:\n",
      "\"product\",\"influenster\",\"free\",\"smell\",\"skin\",\"complimentary\",\"orange\",\"creme\",\"opinion\",\"review\"\n",
      "\n",
      "\n",
      "Top 10 words for topic #4:\n",
      "\"product\",\"complimentary\",\"purpose\",\"opinion\",\"purpose_opinion\",\"sampling\",\"complimentary_sampling\",\"skin\",\"smell\",\"dry\"\n",
      "\n",
      "\n",
      "Top 10 words for topic #5:\n",
      "\"skin\",\"product\",\"moisturizer\",\"dry\",\"great\",\"day\",\"use\",\"feel\",\"cream\",\"little\"\n",
      "\n",
      "\n"
     ]
    }
   ],
   "source": [
    "# Positive moisturizer in spring\n",
    "TopicModeling(spr_moi_pos)"
   ]
  },
  {
   "cell_type": "code",
   "execution_count": 73,
   "id": "7f0925bb",
   "metadata": {},
   "outputs": [
    {
     "name": "stdout",
     "output_type": "stream",
     "text": [
      "Top 10 words for topic #1:\n",
      "\"product\",\"skin\",\"little\",\"cream\",\"face\",\"way\",\"long\",\"feel\",\"great\",\"dry\"\n",
      "\n",
      "\n",
      "Top 10 words for topic #2:\n",
      "\"routine\",\"product\",\"skin\",\"essence\",\"moisturizer\",\"skincare\",\"use\",\"morning\",\"night\",\"skincare_routine\"\n",
      "\n",
      "\n",
      "Top 10 words for topic #3:\n",
      "\"skin\",\"moisturizer\",\"dry\",\"product\",\"cream\",\"feel\",\"great\",\"sensitive\",\"day\",\"love\"\n",
      "\n",
      "\n",
      "Top 10 words for topic #4:\n",
      "\"line\",\"fine\",\"product\",\"fine_line\",\"skin\",\"week\",\"result\",\"wrinkle\",\"difference\",\"year\"\n",
      "\n",
      "\n",
      "Top 10 words for topic #5:\n",
      "\"cream\",\"skin\",\"confidence\",\"face\",\"confidence_cream\",\"cosmetic\",\"feel\",\"greasy\",\"scent\",\"day\"\n",
      "\n",
      "\n"
     ]
    }
   ],
   "source": [
    "# Positive moisturizer in summer\n",
    "TopicModeling(sum_moi_pos)"
   ]
  },
  {
   "cell_type": "code",
   "execution_count": 74,
   "id": "f15b5237",
   "metadata": {},
   "outputs": [
    {
     "name": "stdout",
     "output_type": "stream",
     "text": [
      "Top 10 words for topic #1:\n",
      "\"skin\",\"moisturizer\",\"little\",\"cream\",\"feel\",\"way\",\"product\",\"long\",\"face\",\"dry\"\n",
      "\n",
      "\n",
      "Top 10 words for topic #2:\n",
      "\"line\",\"fine\",\"fine_line\",\"cream\",\"eye\",\"skin\",\"face\",\"difference\",\"product\",\"area\"\n",
      "\n",
      "\n",
      "Top 10 words for topic #3:\n",
      "\"product\",\"skin\",\"sample\",\"review\",\"honest\",\"influenster\",\"feel\",\"scent\",\"exchange\",\"free\"\n",
      "\n",
      "\n",
      "Top 10 words for topic #4:\n",
      "\"oil\",\"face\",\"hair\",\"use\",\"product\",\"hand\",\"argan\",\"youth\",\"argan_oil\",\"drop\"\n",
      "\n",
      "\n",
      "Top 10 words for topic #5:\n",
      "\"skin\",\"product\",\"dry\",\"moisturizer\",\"cream\",\"day\",\"sensitive\",\"face\",\"use\",\"feel\"\n",
      "\n",
      "\n"
     ]
    }
   ],
   "source": [
    "# Positive moisturizer in fall\n",
    "TopicModeling(fall_moi_pos)"
   ]
  },
  {
   "cell_type": "code",
   "execution_count": 75,
   "id": "e6cde4e5",
   "metadata": {},
   "outputs": [
    {
     "name": "stdout",
     "output_type": "stream",
     "text": [
      "Top 10 words for topic #1:\n",
      "\"skin\",\"product\",\"week\",\"dry\",\"time\",\"moisturizer\",\"face\",\"sensitive\",\"cream\",\"good\"\n",
      "\n",
      "\n",
      "Top 10 words for topic #2:\n",
      "\"skin\",\"product\",\"dry\",\"moisturizer\",\"face\",\"sensitive\",\"use\",\"cream\",\"day\",\"feel\"\n",
      "\n",
      "\n",
      "Top 10 words for topic #3:\n",
      "\"product\",\"elephant\",\"drunk\",\"drunk_elephant\",\"skin\",\"review\",\"time\",\"free\",\"influenster\",\"ingredient\"\n",
      "\n",
      "\n",
      "Top 10 words for topic #4:\n",
      "\"skin\",\"feel\",\"great\",\"anything\",\"way\",\"moisturizer\",\"dry\",\"hand\",\"review\",\"small\"\n",
      "\n",
      "\n",
      "Top 10 words for topic #5:\n",
      "\"product\",\"face\",\"skin\",\"cream\",\"review\",\"moisturizer\",\"smell\",\"day\",\"sample\",\"scent\"\n",
      "\n",
      "\n"
     ]
    }
   ],
   "source": [
    "# Negative moisturizer in winter\n",
    "TopicModeling(win_moi_neg)"
   ]
  },
  {
   "cell_type": "code",
   "execution_count": 76,
   "id": "3b73946a",
   "metadata": {},
   "outputs": [
    {
     "name": "stdout",
     "output_type": "stream",
     "text": [
      "Top 10 words for topic #1:\n",
      "\"skin\",\"product\",\"face\",\"moisturizer\",\"cream\",\"time\",\"month\",\"day\",\"review\",\"elephant\"\n",
      "\n",
      "\n",
      "Top 10 words for topic #2:\n",
      "\"skin\",\"product\",\"redness\",\"face\",\"dry\",\"look\",\"good\",\"color\",\"green\",\"smell\"\n",
      "\n",
      "\n",
      "Top 10 words for topic #3:\n",
      "\"skin\",\"product\",\"dry\",\"moisturizer\",\"week\",\"love\",\"breakout\",\"break\",\"sample\",\"sensitive\"\n",
      "\n",
      "\n",
      "Top 10 words for topic #4:\n",
      "\"skin\",\"product\",\"day\",\"face\",\"ingredient\",\"sensitive\",\"time\",\"acne\",\"red\",\"dry\"\n",
      "\n",
      "\n",
      "Top 10 words for topic #5:\n",
      "\"skin\",\"product\",\"feel\",\"face\",\"way\",\"redness\",\"heavy\",\"much\",\"white\",\"price\"\n",
      "\n",
      "\n"
     ]
    }
   ],
   "source": [
    "# Negative moisturizer in spring\n",
    "TopicModeling(spr_moi_neg)"
   ]
  },
  {
   "cell_type": "code",
   "execution_count": 77,
   "id": "a4dfa3ce",
   "metadata": {},
   "outputs": [
    {
     "name": "stdout",
     "output_type": "stream",
     "text": [
      "Top 10 words for topic #1:\n",
      "\"product\",\"skin\",\"ingredient\",\"fragrance\",\"good\",\"alcohol\",\"smell\",\"skincare\",\"cream\",\"use\"\n",
      "\n",
      "\n",
      "Top 10 words for topic #2:\n",
      "\"face\",\"product\",\"review\",\"bump\",\"gift\",\"little\",\"birthday\",\"thing\",\"birthday_gift\",\"day\"\n",
      "\n",
      "\n",
      "Top 10 words for topic #3:\n",
      "\"skin\",\"product\",\"moisturizer\",\"price\",\"dry\",\"feel\",\"day\",\"money\",\"sensitive\",\"face\"\n",
      "\n",
      "\n",
      "Top 10 words for topic #4:\n",
      "\"skin\",\"product\",\"dry\",\"nothing\",\"face\",\"price\",\"feel\",\"moisturizer\",\"worth\",\"nice\"\n",
      "\n",
      "\n",
      "Top 10 words for topic #5:\n",
      "\"skin\",\"product\",\"cream\",\"face\",\"week\",\"sample\",\"review\",\"free\",\"break\",\"sensitive\"\n",
      "\n",
      "\n"
     ]
    }
   ],
   "source": [
    "# Negative moisturizer in summer\n",
    "TopicModeling(sum_moi_neg)"
   ]
  },
  {
   "cell_type": "code",
   "execution_count": 78,
   "id": "8b1c4a85",
   "metadata": {},
   "outputs": [
    {
     "name": "stdout",
     "output_type": "stream",
     "text": [
      "Top 10 words for topic #1:\n",
      "\"skin\",\"size\",\"ingredient\",\"dry\",\"high\",\"bad\",\"full\",\"hope\",\"feel\",\"high_hope\"\n",
      "\n",
      "\n",
      "Top 10 words for topic #2:\n",
      "\"skin\",\"oil\",\"product\",\"face\",\"cream\",\"argan\",\"argan_oil\",\"birthday\",\"gift\",\"sample\"\n",
      "\n",
      "\n",
      "Top 10 words for topic #3:\n",
      "\"skin\",\"product\",\"face\",\"dry\",\"review\",\"moisturizer\",\"red\",\"free\",\"cream\",\"honest\"\n",
      "\n",
      "\n",
      "Top 10 words for topic #4:\n",
      "\"skin\",\"dry\",\"product\",\"day\",\"moisturizer\",\"cream\",\"face\",\"sensitive\",\"week\",\"good\"\n",
      "\n",
      "\n",
      "Top 10 words for topic #5:\n",
      "\"product\",\"skin\",\"price\",\"moisturizer\",\"use\",\"elephant\",\"month\",\"money\",\"time\",\"drunk\"\n",
      "\n",
      "\n"
     ]
    }
   ],
   "source": [
    "# Negative moisturizer in fall\n",
    "TopicModeling(fall_moi_neg)"
   ]
  },
  {
   "cell_type": "markdown",
   "id": "f58e9300",
   "metadata": {},
   "source": [
    "#### 3.2 Seasonal cleanser review topics"
   ]
  },
  {
   "cell_type": "code",
   "execution_count": 79,
   "id": "7cd3e956",
   "metadata": {},
   "outputs": [
    {
     "name": "stdout",
     "output_type": "stream",
     "text": [
      "Top 10 words for topic #1:\n",
      "\"skin\",\"product\",\"toner\",\"use\",\"week\",\"night\",\"day\",\"free\",\"time\",\"influenster\"\n",
      "\n",
      "\n",
      "Top 10 words for topic #2:\n",
      "\"spot\",\"dark\",\"product\",\"dark_spot\",\"toner\",\"skin\",\"complimentary\",\"difference\",\"purpose\",\"week\"\n",
      "\n",
      "\n",
      "Top 10 words for topic #3:\n",
      "\"honest\",\"skincare\",\"routine\",\"review\",\"acne_scar\",\"skincare_routine\",\"exchange\",\"acne\",\"exchange_honest\",\"scar\"\n",
      "\n",
      "\n",
      "Top 10 words for topic #4:\n",
      "\"skin\",\"cleanser\",\"face\",\"clean\",\"dry\",\"product\",\"feel\",\"gentle\",\"great\",\"smell\"\n",
      "\n",
      "\n",
      "Top 10 words for topic #5:\n",
      "\"makeup\",\"eye\",\"product\",\"balm\",\"face\",\"skin\",\"remover\",\"mascara\",\"use\",\"little\"\n",
      "\n",
      "\n"
     ]
    }
   ],
   "source": [
    "# Positive cleanser in winter\n",
    "TopicModeling(win_cln_pos)"
   ]
  },
  {
   "cell_type": "code",
   "execution_count": 80,
   "id": "126cfe60",
   "metadata": {},
   "outputs": [
    {
     "name": "stdout",
     "output_type": "stream",
     "text": [
      "Top 10 words for topic #1:\n",
      "\"little\",\"way\",\"long\",\"face\",\"bit\",\"little_long\",\"wash\",\"price\",\"worth\",\"little_bit\"\n",
      "\n",
      "\n",
      "Top 10 words for topic #2:\n",
      "\"makeup\",\"product\",\"balm\",\"skin\",\"use\",\"cleanse\",\"oil\",\"cleanser\",\"clean\",\"face\"\n",
      "\n",
      "\n",
      "Top 10 words for topic #3:\n",
      "\"makeup\",\"eye\",\"size\",\"full\",\"mascara\",\"full_size\",\"remover\",\"sample\",\"waterproof\",\"product\"\n",
      "\n",
      "\n",
      "Top 10 words for topic #4:\n",
      "\"skin\",\"product\",\"cleanser\",\"clean\",\"feel\",\"face\",\"soft\",\"free\",\"smell\",\"influenster\"\n",
      "\n",
      "\n",
      "Top 10 words for topic #5:\n",
      "\"skin\",\"cleanser\",\"face\",\"dry\",\"product\",\"sensitive\",\"clean\",\"use\",\"gentle\",\"acne\"\n",
      "\n",
      "\n"
     ]
    }
   ],
   "source": [
    "# Positive cleanser in spring\n",
    "TopicModeling(spr_cln_pos)"
   ]
  },
  {
   "cell_type": "code",
   "execution_count": 81,
   "id": "7386d5f6",
   "metadata": {},
   "outputs": [
    {
     "name": "stdout",
     "output_type": "stream",
     "text": [
      "Top 10 words for topic #1:\n",
      "\"skin\",\"dermalogica\",\"product\",\"use\",\"daily\",\"complimentary\",\"gentle\",\"complimentary_dermalogica\",\"feel\",\"microfoliant\"\n",
      "\n",
      "\n",
      "Top 10 words for topic #2:\n",
      "\"cleanser\",\"skin\",\"clean\",\"face\",\"product\",\"feel\",\"smell\",\"little\",\"way\",\"dry\"\n",
      "\n",
      "\n",
      "Top 10 words for topic #3:\n",
      "\"skin\",\"cleanser\",\"size\",\"face\",\"product\",\"dry\",\"sensitive\",\"acne\",\"full\",\"gentle\"\n",
      "\n",
      "\n",
      "Top 10 words for topic #4:\n",
      "\"makeup\",\"eye\",\"balm\",\"product\",\"face\",\"remover\",\"mascara\",\"use\",\"skin\",\"oil\"\n",
      "\n",
      "\n",
      "Top 10 words for topic #5:\n",
      "\"product\",\"review\",\"honest\",\"free\",\"exchange\",\"sample\",\"exchange_honest\",\"little\",\"try\",\"complimentary\"\n",
      "\n",
      "\n"
     ]
    }
   ],
   "source": [
    "# Positive cleanser in summer\n",
    "TopicModeling(sum_cln_pos)"
   ]
  },
  {
   "cell_type": "code",
   "execution_count": 82,
   "id": "26bb3224",
   "metadata": {},
   "outputs": [
    {
     "name": "stdout",
     "output_type": "stream",
     "text": [
      "Top 10 words for topic #1:\n",
      "\"size\",\"sample\",\"full\",\"full_size\",\"product\",\"bottle\",\"cleanser\",\"skin\",\"pump\",\"small\"\n",
      "\n",
      "\n",
      "Top 10 words for topic #2:\n",
      "\"balm\",\"product\",\"oil\",\"clean\",\"smell\",\"good\",\"makeup\",\"first\",\"green\",\"love\"\n",
      "\n",
      "\n",
      "Top 10 words for topic #3:\n",
      "\"skin\",\"cleanser\",\"product\",\"face\",\"dry\",\"clean\",\"sensitive\",\"use\",\"feel\",\"gentle\"\n",
      "\n",
      "\n",
      "Top 10 words for topic #4:\n",
      "\"makeup\",\"face\",\"product\",\"eye\",\"mascara\",\"balm\",\"use\",\"skin\",\"water\",\"waterproof\"\n",
      "\n",
      "\n",
      "Top 10 words for topic #5:\n",
      "\"makeup\",\"eye\",\"remover\",\"best\",\"product\",\"balm\",\"stuff\",\"face\",\"everything\",\"melt\"\n",
      "\n",
      "\n"
     ]
    }
   ],
   "source": [
    "# Positive cleanser in fall\n",
    "TopicModeling(fall_cln_pos)"
   ]
  },
  {
   "cell_type": "code",
   "execution_count": 83,
   "id": "72bf0e51",
   "metadata": {},
   "outputs": [
    {
     "name": "stdout",
     "output_type": "stream",
     "text": [
      "Top 10 words for topic #1:\n",
      "\"eye\",\"product\",\"spot\",\"dark\",\"dark_spot\",\"toner\",\"vision\",\"hour\",\"try\",\"result\"\n",
      "\n",
      "\n",
      "Top 10 words for topic #2:\n",
      "\"time\",\"eye\",\"cleanser\",\"skin\",\"product\",\"size\",\"makeup\",\"day\",\"face\",\"balm\"\n",
      "\n",
      "\n",
      "Top 10 words for topic #3:\n",
      "\"skin\",\"cleanser\",\"product\",\"dry\",\"bottle\",\"good\",\"oil\",\"price\",\"love\",\"pump\"\n",
      "\n",
      "\n",
      "Top 10 words for topic #4:\n",
      "\"face\",\"makeup\",\"cleanser\",\"product\",\"wash\",\"smell\",\"clean\",\"use\",\"feel\",\"good\"\n",
      "\n",
      "\n",
      "Top 10 words for topic #5:\n",
      "\"skin\",\"product\",\"face\",\"sensitive\",\"dry\",\"use\",\"time\",\"clean\",\"day\",\"ingredient\"\n",
      "\n",
      "\n"
     ]
    }
   ],
   "source": [
    "# Negative moisturizer in winter\n",
    "TopicModeling(win_cln_neg)"
   ]
  },
  {
   "cell_type": "code",
   "execution_count": 84,
   "id": "14721882",
   "metadata": {},
   "outputs": [
    {
     "name": "stdout",
     "output_type": "stream",
     "text": [
      "Top 10 words for topic #1:\n",
      "\"product\",\"eye\",\"plastic\",\"makeup\",\"balm\",\"clean\",\"ingredient\",\"polyethylene\",\"mascara\",\"sephora\"\n",
      "\n",
      "\n",
      "Top 10 words for topic #2:\n",
      "\"makeup\",\"skin\",\"product\",\"eye\",\"cleanser\",\"face\",\"great\",\"balm\",\"dry\",\"lot\"\n",
      "\n",
      "\n",
      "Top 10 words for topic #3:\n",
      "\"skin\",\"product\",\"dry\",\"face\",\"bad\",\"good\",\"sensitive\",\"smell\",\"break\",\"love\"\n",
      "\n",
      "\n",
      "Top 10 words for topic #4:\n",
      "\"face\",\"product\",\"cleanser\",\"use\",\"clean\",\"feel\",\"skin\",\"time\",\"wash\",\"bottle\"\n",
      "\n",
      "\n",
      "Top 10 words for topic #5:\n",
      "\"skin\",\"cleanser\",\"dry\",\"sensitive\",\"week\",\"day\",\"product\",\"face\",\"work\",\"acne\"\n",
      "\n",
      "\n"
     ]
    }
   ],
   "source": [
    "# Negative moisturizer in spring\n",
    "TopicModeling(spr_cln_neg)"
   ]
  },
  {
   "cell_type": "code",
   "execution_count": 85,
   "id": "5923e494",
   "metadata": {},
   "outputs": [
    {
     "name": "stdout",
     "output_type": "stream",
     "text": [
      "Top 10 words for topic #1:\n",
      "\"makeup\",\"eye\",\"face\",\"product\",\"cleanser\",\"remover\",\"balm\",\"mascara\",\"use\",\"time\"\n",
      "\n",
      "\n",
      "Top 10 words for topic #2:\n",
      "\"skin\",\"product\",\"sensitive\",\"dry\",\"acne\",\"week\",\"cleanser\",\"break\",\"good\",\"breakout\"\n",
      "\n",
      "\n",
      "Top 10 words for topic #3:\n",
      "\"product\",\"plastic\",\"clean\",\"face\",\"ingredient\",\"wash\",\"sephora\",\"polyethylene\",\"time\",\"skin\"\n",
      "\n",
      "\n",
      "Top 10 words for topic #4:\n",
      "\"face\",\"skin\",\"product\",\"smell\",\"clean\",\"dry\",\"feel\",\"use\",\"wash\",\"cleanser\"\n",
      "\n",
      "\n",
      "Top 10 words for topic #5:\n",
      "\"cleanser\",\"skin\",\"product\",\"use\",\"smell\",\"way\",\"try\",\"sample\",\"money\",\"day\"\n",
      "\n",
      "\n"
     ]
    }
   ],
   "source": [
    "# Negative moisturizer in summer\n",
    "TopicModeling(sum_cln_neg)"
   ]
  },
  {
   "cell_type": "code",
   "execution_count": 86,
   "id": "65815df0",
   "metadata": {},
   "outputs": [
    {
     "name": "stdout",
     "output_type": "stream",
     "text": [
      "Top 10 words for topic #1:\n",
      "\"product\",\"skin\",\"use\",\"face\",\"good\",\"clean\",\"feel\",\"review\",\"bottle\",\"time\"\n",
      "\n",
      "\n",
      "Top 10 words for topic #2:\n",
      "\"cleanser\",\"skin\",\"face\",\"product\",\"dry\",\"clean\",\"feel\",\"wash\",\"acne\",\"week\"\n",
      "\n",
      "\n",
      "Top 10 words for topic #3:\n",
      "\"product\",\"skin\",\"sensitive\",\"cleanser\",\"smell\",\"breakout\",\"job\",\"makeup\",\"use\",\"clean\"\n",
      "\n",
      "\n",
      "Top 10 words for topic #4:\n",
      "\"skin\",\"day\",\"face\",\"product\",\"makeup\",\"cleanser\",\"breakout\",\"time\",\"nice\",\"sensitive\"\n",
      "\n",
      "\n",
      "Top 10 words for topic #5:\n",
      "\"makeup\",\"eye\",\"product\",\"face\",\"balm\",\"mascara\",\"use\",\"vision\",\"time\",\"work\"\n",
      "\n",
      "\n"
     ]
    }
   ],
   "source": [
    "# Negative moisturizer in fall\n",
    "TopicModeling(fall_cln_neg)"
   ]
  },
  {
   "cell_type": "markdown",
   "id": "84d7b404",
   "metadata": {},
   "source": [
    "#### 3.3 Seasonal treatment review topics"
   ]
  },
  {
   "cell_type": "code",
   "execution_count": 87,
   "id": "00b99975",
   "metadata": {},
   "outputs": [
    {
     "name": "stdout",
     "output_type": "stream",
     "text": [
      "Top 10 words for topic #1:\n",
      "\"line\",\"skin\",\"fine\",\"fine_line\",\"sunday\",\"serum\",\"wrinkle\",\"lactic\",\"skincare\",\"treatment\"\n",
      "\n",
      "\n",
      "Top 10 words for topic #2:\n",
      "\"skin\",\"product\",\"use\",\"good\",\"face\",\"dry\",\"feel\",\"sunday\",\"day\",\"week\"\n",
      "\n",
      "\n",
      "Top 10 words for topic #3:\n",
      "\"serum\",\"herb\",\"life\",\"skinlongevity\",\"life_herb\",\"bareminerals\",\"sample\",\"skin\",\"product\",\"long\"\n",
      "\n",
      "\n",
      "Top 10 words for topic #4:\n",
      "\"sample\",\"free_sample\",\"serum\",\"free\",\"face\",\"skin\",\"product\",\"pinchme\",\"size\",\"bare\"\n",
      "\n",
      "\n",
      "Top 10 words for topic #5:\n",
      "\"acne\",\"pimple\",\"product\",\"skin\",\"day\",\"dot\",\"work\",\"night\",\"time\",\"spot\"\n",
      "\n",
      "\n"
     ]
    }
   ],
   "source": [
    "# Positive treatment in winter\n",
    "TopicModeling(win_tm_pos)"
   ]
  },
  {
   "cell_type": "code",
   "execution_count": 88,
   "id": "92d5fde6",
   "metadata": {},
   "outputs": [
    {
     "name": "stdout",
     "output_type": "stream",
     "text": [
      "Top 10 words for topic #1:\n",
      "\"product\",\"acne\",\"skin\",\"price\",\"breakout\",\"day\",\"use\",\"hormonal\",\"week\",\"time\"\n",
      "\n",
      "\n",
      "Top 10 words for topic #2:\n",
      "\"skin\",\"product\",\"use\",\"face\",\"week\",\"time\",\"sensitive\",\"great\",\"feel\",\"result\"\n",
      "\n",
      "\n",
      "Top 10 words for topic #3:\n",
      "\"peel\",\"skin\",\"daily\",\"sample\",\"dr\",\"extra\",\"gross\",\"strength\",\"dennis\",\"product\"\n",
      "\n",
      "\n",
      "Top 10 words for topic #4:\n",
      "\"pimple\",\"acne\",\"dot\",\"work\",\"night\",\"patch\",\"spot\",\"day\",\"morning\",\"next\"\n",
      "\n",
      "\n",
      "Top 10 words for topic #5:\n",
      "\"skin\",\"product\",\"use\",\"serum\",\"acne\",\"moisturizer\",\"face\",\"dry\",\"day\",\"pore\"\n",
      "\n",
      "\n"
     ]
    }
   ],
   "source": [
    "# Positive treatment in spring\n",
    "TopicModeling(spr_tm_pos)"
   ]
  },
  {
   "cell_type": "code",
   "execution_count": 89,
   "id": "c3f3d57a",
   "metadata": {},
   "outputs": [
    {
     "name": "stdout",
     "output_type": "stream",
     "text": [
      "Top 10 words for topic #1:\n",
      "\"product\",\"skin\",\"acne\",\"day\",\"pimple\",\"use\",\"work\",\"night\",\"face\",\"time\"\n",
      "\n",
      "\n",
      "Top 10 words for topic #2:\n",
      "\"eye\",\"line\",\"product\",\"cream\",\"fine\",\"fine_line\",\"eye_cream\",\"night\",\"week\",\"circle\"\n",
      "\n",
      "\n",
      "Top 10 words for topic #3:\n",
      "\"skin\",\"product\",\"serum\",\"feel\",\"week\",\"great\",\"smell\",\"use\",\"good\",\"love\"\n",
      "\n",
      "\n",
      "Top 10 words for topic #4:\n",
      "\"routine\",\"long\",\"bottle\",\"size\",\"sample\",\"honest\",\"product\",\"full\",\"free\",\"skincare\"\n",
      "\n",
      "\n",
      "Top 10 words for topic #5:\n",
      "\"peel\",\"skin\",\"daily\",\"gross\",\"extra\",\"dr\",\"dennis\",\"strength\",\"dr_dennis\",\"product\"\n",
      "\n",
      "\n"
     ]
    }
   ],
   "source": [
    "# Positive treatment in summer\n",
    "TopicModeling(sum_tm_pos)"
   ]
  },
  {
   "cell_type": "code",
   "execution_count": 90,
   "id": "109eed3c",
   "metadata": {},
   "outputs": [
    {
     "name": "stdout",
     "output_type": "stream",
     "text": [
      "Top 10 words for topic #1:\n",
      "\"skin\",\"product\",\"serum\",\"week\",\"line\",\"feel\",\"use\",\"difference\",\"face\",\"great\"\n",
      "\n",
      "\n",
      "Top 10 words for topic #2:\n",
      "\"skin\",\"wrinkle\",\"feel\",\"product\",\"time\",\"good\",\"serum\",\"care\",\"smell\",\"retinol\"\n",
      "\n",
      "\n",
      "Top 10 words for topic #3:\n",
      "\"product\",\"serum\",\"skin\",\"feel\",\"free\",\"influenster\",\"review\",\"nice\",\"honest\",\"light\"\n",
      "\n",
      "\n",
      "Top 10 words for topic #4:\n",
      "\"acne\",\"pimple\",\"skin\",\"dot\",\"product\",\"peel\",\"day\",\"work\",\"use\",\"spot\"\n",
      "\n",
      "\n",
      "Top 10 words for topic #5:\n",
      "\"product\",\"price\",\"next\",\"worth\",\"face\",\"little\",\"great\",\"morning\",\"day\",\"skin\"\n",
      "\n",
      "\n"
     ]
    }
   ],
   "source": [
    "# Positive treatment in fall\n",
    "TopicModeling(fall_tm_pos)"
   ]
  },
  {
   "cell_type": "code",
   "execution_count": 91,
   "id": "ac5edc49",
   "metadata": {},
   "outputs": [
    {
     "name": "stdout",
     "output_type": "stream",
     "text": [
      "Top 10 words for topic #1:\n",
      "\"product\",\"skin\",\"acne\",\"day\",\"pimple\",\"use\",\"night\",\"time\",\"face\",\"work\"\n",
      "\n",
      "\n",
      "Top 10 words for topic #2:\n",
      "\"skin\",\"product\",\"sunday\",\"good\",\"use\",\"riley\",\"gene\",\"good_gene\",\"acid\",\"feel\"\n",
      "\n",
      "\n",
      "Top 10 words for topic #3:\n",
      "\"serum\",\"life\",\"skinlongevity\",\"herb\",\"sample\",\"bareminerals\",\"life_herb\",\"skin\",\"face\",\"product\"\n",
      "\n",
      "\n",
      "Top 10 words for topic #4:\n",
      "\"serum\",\"skin\",\"skincare\",\"routine\",\"easy\",\"ingredient\",\"clean\",\"free\",\"skincare_routine\",\"cruelty\"\n",
      "\n",
      "\n",
      "Top 10 words for topic #5:\n",
      "\"sample\",\"free\",\"product\",\"serum\",\"pinchme\",\"skin\",\"free_sample\",\"good\",\"size\",\"feel\"\n",
      "\n",
      "\n"
     ]
    }
   ],
   "source": [
    "# Negative treatment in winter\n",
    "TopicModeling(win_tm_neg)"
   ]
  },
  {
   "cell_type": "code",
   "execution_count": 92,
   "id": "7eb2ec15",
   "metadata": {},
   "outputs": [
    {
     "name": "stdout",
     "output_type": "stream",
     "text": [
      "Top 10 words for topic #1:\n",
      "\"skin\",\"product\",\"dry\",\"face\",\"acid\",\"hyaluronic\",\"serum\",\"hyaluronic_acid\",\"day\",\"use\"\n",
      "\n",
      "\n",
      "Top 10 words for topic #2:\n",
      "\"skin\",\"product\",\"work\",\"difference\",\"pimple\",\"acne\",\"people\",\"month\",\"many\",\"breakout\"\n",
      "\n",
      "\n",
      "Top 10 words for topic #3:\n",
      "\"product\",\"pill\",\"sticky\",\"price\",\"skin\",\"feel\",\"brand\",\"great\",\"use\",\"point\"\n",
      "\n",
      "\n",
      "Top 10 words for topic #4:\n",
      "\"pimple\",\"time\",\"nothing\",\"product\",\"acne\",\"money\",\"review\",\"night\",\"bad\",\"day\"\n",
      "\n",
      "\n",
      "Top 10 words for topic #5:\n",
      "\"skin\",\"product\",\"face\",\"acne\",\"sensitive\",\"break\",\"use\",\"week\",\"bump\",\"red\"\n",
      "\n",
      "\n"
     ]
    }
   ],
   "source": [
    "# Negative treatment in spring\n",
    "TopicModeling(spr_tm_neg)"
   ]
  },
  {
   "cell_type": "code",
   "execution_count": 93,
   "id": "2e4baa41",
   "metadata": {},
   "outputs": [
    {
     "name": "stdout",
     "output_type": "stream",
     "text": [
      "Top 10 words for topic #1:\n",
      "\"product\",\"difference\",\"eye\",\"skin\",\"face\",\"day\",\"free\",\"sample\",\"much\",\"influenster\"\n",
      "\n",
      "\n",
      "Top 10 words for topic #2:\n",
      "\"product\",\"skin\",\"acne\",\"week\",\"day\",\"face\",\"review\",\"breakout\",\"use\",\"time\"\n",
      "\n",
      "\n",
      "Top 10 words for topic #3:\n",
      "\"skin\",\"product\",\"pimple\",\"acne\",\"dot\",\"sensitive\",\"white\",\"head\",\"blemish\",\"sensitive_skin\"\n",
      "\n",
      "\n",
      "Top 10 words for topic #4:\n",
      "\"pimple\",\"work\",\"anything\",\"money\",\"spot\",\"nothing\",\"waste\",\"acne\",\"waste_money\",\"time\"\n",
      "\n",
      "\n",
      "Top 10 words for topic #5:\n",
      "\"skin\",\"use\",\"work\",\"patch\",\"nothing\",\"price\",\"spot\",\"night\",\"better\",\"product\"\n",
      "\n",
      "\n"
     ]
    }
   ],
   "source": [
    "# Negative treatment in sum\n",
    "TopicModeling(sum_tm_neg)"
   ]
  },
  {
   "cell_type": "code",
   "execution_count": 94,
   "id": "15e72f7f",
   "metadata": {},
   "outputs": [
    {
     "name": "stdout",
     "output_type": "stream",
     "text": [
      "Top 10 words for topic #1:\n",
      "\"product\",\"review\",\"work\",\"something\",\"skin\",\"anything\",\"breakout\",\"expensive\",\"purchase\",\"good\"\n",
      "\n",
      "\n",
      "Top 10 words for topic #2:\n",
      "\"pimple\",\"skin\",\"nothing\",\"patch\",\"little\",\"day\",\"acne\",\"red\",\"sensitive\",\"product\"\n",
      "\n",
      "\n",
      "Top 10 words for topic #3:\n",
      "\"ingredient\",\"high\",\"hope\",\"brand\",\"lot\",\"zit\",\"one\",\"packaging\",\"patch\",\"kind\"\n",
      "\n",
      "\n",
      "Top 10 words for topic #4:\n",
      "\"product\",\"skin\",\"sample\",\"serum\",\"difference\",\"week\",\"free\",\"price\",\"use\",\"result\"\n",
      "\n",
      "\n",
      "Top 10 words for topic #5:\n",
      "\"work\",\"anything\",\"pimple\",\"money\",\"night\",\"waste\",\"acne\",\"waste_money\",\"time\",\"dot\"\n",
      "\n",
      "\n"
     ]
    }
   ],
   "source": [
    "# Negative treatment in fall\n",
    "TopicModeling(fall_tm_neg)"
   ]
  },
  {
   "cell_type": "markdown",
   "id": "2cb0bbf3",
   "metadata": {},
   "source": [
    "#### 3.4 Seasonal masks review topics"
   ]
  },
  {
   "cell_type": "code",
   "execution_count": 96,
   "id": "fd72a62e",
   "metadata": {},
   "outputs": [
    {
     "name": "stdout",
     "output_type": "stream",
     "text": [
      "Top 10 words for topic #1:\n",
      "\"farmacy\",\"beauty\",\"skin\",\"farmacy_beauty\",\"night\",\"mask\",\"product\",\"complimentary\",\"complimentary_farmacy\",\"texture\"\n",
      "\n",
      "\n",
      "Top 10 words for topic #2:\n",
      "\"product\",\"skin\",\"mask\",\"use\",\"face\",\"night\",\"time\",\"feel\",\"dry\",\"week\"\n",
      "\n",
      "\n",
      "Top 10 words for topic #3:\n",
      "\"skin\",\"mask\",\"product\",\"feel\",\"fresh\",\"texture\",\"sensitive\",\"great\",\"face\",\"love\"\n",
      "\n",
      "\n",
      "Top 10 words for topic #4:\n",
      "\"skin\",\"mask\",\"product\",\"night\",\"little\",\"feel\",\"morning\",\"next\",\"way\",\"use\"\n",
      "\n",
      "\n",
      "Top 10 words for topic #5:\n",
      "\"skin\",\"dry\",\"product\",\"mask\",\"winter\",\"use\",\"moisturizer\",\"face\",\"night\",\"super\"\n",
      "\n",
      "\n"
     ]
    }
   ],
   "source": [
    "# Positive masks in winter\n",
    "TopicModeling(win_msk_pos)"
   ]
  },
  {
   "cell_type": "code",
   "execution_count": 97,
   "id": "7b7f9299",
   "metadata": {},
   "outputs": [
    {
     "name": "stdout",
     "output_type": "stream",
     "text": [
      "Top 10 words for topic #1:\n",
      "\"skin\",\"product\",\"use\",\"time\",\"week\",\"face\",\"result\",\"oil\",\"first\",\"sample\"\n",
      "\n",
      "\n",
      "Top 10 words for topic #2:\n",
      "\"skin\",\"mask\",\"product\",\"use\",\"week\",\"acne\",\"day\",\"time\",\"dry\",\"face\"\n",
      "\n",
      "\n",
      "Top 10 words for topic #3:\n",
      "\"mask\",\"skin\",\"face\",\"use\",\"soft\",\"love\",\"product\",\"best\",\"way\",\"great\"\n",
      "\n",
      "\n",
      "Top 10 words for topic #4:\n",
      "\"skin\",\"mask\",\"product\",\"dry\",\"use\",\"feel\",\"great\",\"face\",\"sensitive\",\"good\"\n",
      "\n",
      "\n",
      "Top 10 words for topic #5:\n",
      "\"mask\",\"pore\",\"product\",\"skin\",\"free\",\"charcoal\",\"clean\",\"purpose\",\"smaller\",\"feel\"\n",
      "\n",
      "\n"
     ]
    }
   ],
   "source": [
    "# Positive masks in spring\n",
    "TopicModeling(spr_msk_pos)"
   ]
  },
  {
   "cell_type": "code",
   "execution_count": 98,
   "id": "8060bbcf",
   "metadata": {},
   "outputs": [
    {
     "name": "stdout",
     "output_type": "stream",
     "text": [
      "Top 10 words for topic #1:\n",
      "\"mask\",\"skin\",\"summer\",\"friday\",\"jet\",\"lag\",\"jet_lag\",\"summer_friday\",\"use\",\"dry\"\n",
      "\n",
      "\n",
      "Top 10 words for topic #2:\n",
      "\"skin\",\"product\",\"mask\",\"smell\",\"face\",\"feel\",\"influenster\",\"pore\",\"love\",\"great\"\n",
      "\n",
      "\n",
      "Top 10 words for topic #3:\n",
      "\"skin\",\"mask\",\"time\",\"product\",\"use\",\"dry\",\"sensitive\",\"week\",\"first\",\"face\"\n",
      "\n",
      "\n",
      "Top 10 words for topic #4:\n",
      "\"skin\",\"mask\",\"clay\",\"product\",\"face\",\"dry\",\"love\",\"feel\",\"facial\",\"soft\"\n",
      "\n",
      "\n",
      "Top 10 words for topic #5:\n",
      "\"product\",\"skin\",\"use\",\"mask\",\"feel\",\"time\",\"little\",\"face\",\"love\",\"worth\"\n",
      "\n",
      "\n"
     ]
    }
   ],
   "source": [
    "# Positive masks in summer\n",
    "TopicModeling(sum_msk_pos)"
   ]
  },
  {
   "cell_type": "code",
   "execution_count": 99,
   "id": "c75f4589",
   "metadata": {},
   "outputs": [
    {
     "name": "stdout",
     "output_type": "stream",
     "text": [
      "Top 10 words for topic #1:\n",
      "\"skin\",\"product\",\"size\",\"week\",\"oil\",\"use\",\"result\",\"sample\",\"soft\",\"marula\"\n",
      "\n",
      "\n",
      "Top 10 words for topic #2:\n",
      "\"mask\",\"skin\",\"product\",\"face\",\"feel\",\"super\",\"use\",\"dry\",\"purpose\",\"free\"\n",
      "\n",
      "\n",
      "Top 10 words for topic #3:\n",
      "\"skin\",\"mask\",\"product\",\"face\",\"feel\",\"time\",\"sensitive\",\"use\",\"great\",\"try\"\n",
      "\n",
      "\n",
      "Top 10 words for topic #4:\n",
      "\"skin\",\"product\",\"time\",\"use\",\"acne\",\"week\",\"pore\",\"face\",\"first\",\"minute\"\n",
      "\n",
      "\n",
      "Top 10 words for topic #5:\n",
      "\"skin\",\"mask\",\"use\",\"product\",\"dry\",\"night\",\"day\",\"makeup\",\"worth\",\"moisturizer\"\n",
      "\n",
      "\n"
     ]
    }
   ],
   "source": [
    "# Positive masks in fall\n",
    "TopicModeling(fall_msk_pos)"
   ]
  },
  {
   "cell_type": "code",
   "execution_count": 100,
   "id": "6235bb22",
   "metadata": {},
   "outputs": [
    {
     "name": "stdout",
     "output_type": "stream",
     "text": [
      "Top 10 words for topic #1:\n",
      "\"skin\",\"mask\",\"product\",\"nothing\",\"smell\",\"many\",\"difference\",\"price\",\"size\",\"thing\"\n",
      "\n",
      "\n",
      "Top 10 words for topic #2:\n",
      "\"product\",\"skin\",\"feel\",\"mask\",\"dry\",\"hype\",\"use\",\"great\",\"moisturizer\",\"face\"\n",
      "\n",
      "\n",
      "Top 10 words for topic #3:\n",
      "\"mask\",\"morning\",\"pimple\",\"skin\",\"night\",\"breakout\",\"product\",\"overnight\",\"break\",\"next\"\n",
      "\n",
      "\n",
      "Top 10 words for topic #4:\n",
      "\"skin\",\"face\",\"red\",\"product\",\"mask\",\"time\",\"sensitive\",\"love\",\"try\",\"reaction\"\n",
      "\n",
      "\n",
      "Top 10 words for topic #5:\n",
      "\"skin\",\"dry\",\"product\",\"sensitive\",\"mask\",\"good\",\"patch\",\"night\",\"time\",\"feel\"\n",
      "\n",
      "\n"
     ]
    }
   ],
   "source": [
    "# Negative masks in winter\n",
    "TopicModeling(win_msk_neg)"
   ]
  },
  {
   "cell_type": "code",
   "execution_count": 101,
   "id": "b6e7597c",
   "metadata": {},
   "outputs": [
    {
     "name": "stdout",
     "output_type": "stream",
     "text": [
      "Top 10 words for topic #1:\n",
      "\"mask\",\"product\",\"skin\",\"face\",\"love\",\"feel\",\"time\",\"much\",\"moisturizer\",\"use\"\n",
      "\n",
      "\n",
      "Top 10 words for topic #2:\n",
      "\"skin\",\"face\",\"red\",\"sensitive\",\"day\",\"product\",\"next\",\"dry\",\"next_day\",\"mask\"\n",
      "\n",
      "\n",
      "Top 10 words for topic #3:\n",
      "\"skin\",\"product\",\"dry\",\"review\",\"sensitive\",\"work\",\"love\",\"good\",\"bump\",\"moisturizer\"\n",
      "\n",
      "\n",
      "Top 10 words for topic #4:\n",
      "\"skin\",\"mask\",\"dry\",\"product\",\"face\",\"time\",\"feel\",\"worth\",\"much\",\"great\"\n",
      "\n",
      "\n",
      "Top 10 words for topic #5:\n",
      "\"mask\",\"skin\",\"time\",\"product\",\"nothing\",\"try\",\"face\",\"review\",\"first\",\"first_time\"\n",
      "\n",
      "\n"
     ]
    }
   ],
   "source": [
    "# Negative masks in spring\n",
    "TopicModeling(spr_msk_neg)"
   ]
  },
  {
   "cell_type": "code",
   "execution_count": 102,
   "id": "564c9430",
   "metadata": {},
   "outputs": [
    {
     "name": "stdout",
     "output_type": "stream",
     "text": [
      "Top 10 words for topic #1:\n",
      "\"skin\",\"product\",\"worth\",\"use\",\"dry\",\"hype\",\"time\",\"work\",\"acne\",\"sensitive\"\n",
      "\n",
      "\n",
      "Top 10 words for topic #2:\n",
      "\"skin\",\"product\",\"mask\",\"time\",\"day\",\"sensitive\",\"breakout\",\"sure\",\"dry\",\"feel\"\n",
      "\n",
      "\n",
      "Top 10 words for topic #3:\n",
      "\"face\",\"product\",\"skin\",\"mask\",\"red\",\"minute\",\"sensitive\",\"sample\",\"reaction\",\"irritated\"\n",
      "\n",
      "\n",
      "Top 10 words for topic #4:\n",
      "\"face\",\"formula\",\"red\",\"mask\",\"size\",\"use\",\"product\",\"sample\",\"new\",\"full\"\n",
      "\n",
      "\n",
      "Top 10 words for topic #5:\n",
      "\"product\",\"review\",\"anything\",\"good\",\"skin\",\"face\",\"money\",\"nothing\",\"something\",\"dry\"\n",
      "\n",
      "\n"
     ]
    }
   ],
   "source": [
    "# Negative masks in summer\n",
    "TopicModeling(sum_msk_neg)"
   ]
  },
  {
   "cell_type": "code",
   "execution_count": 103,
   "id": "d74ea012",
   "metadata": {},
   "outputs": [
    {
     "name": "stdout",
     "output_type": "stream",
     "text": [
      "Top 10 words for topic #1:\n",
      "\"terrible\",\"mask\",\"oil\",\"face\",\"new\",\"use\",\"skin\",\"reaction\",\"product\",\"experience\"\n",
      "\n",
      "\n",
      "Top 10 words for topic #2:\n",
      "\"skin\",\"product\",\"mask\",\"dry\",\"face\",\"week\",\"use\",\"moisturizer\",\"time\",\"difference\"\n",
      "\n",
      "\n",
      "Top 10 words for topic #3:\n",
      "\"skin\",\"product\",\"anything\",\"hype\",\"love\",\"face\",\"hydrate\",\"work\",\"prone\",\"red\"\n",
      "\n",
      "\n",
      "Top 10 words for topic #4:\n",
      "\"product\",\"time\",\"mask\",\"skin\",\"first\",\"try\",\"first_time\",\"review\",\"face\",\"day\"\n",
      "\n",
      "\n",
      "Top 10 words for topic #5:\n",
      "\"skin\",\"product\",\"face\",\"mask\",\"red\",\"sensitive\",\"dry\",\"feel\",\"try\",\"good\"\n",
      "\n",
      "\n"
     ]
    }
   ],
   "source": [
    "# Negative masks in fall\n",
    "TopicModeling(fall_msk_neg)"
   ]
  },
  {
   "cell_type": "markdown",
   "id": "504a65bb",
   "metadata": {},
   "source": [
    "#### 3.5 Seasonal Eye care review topics"
   ]
  },
  {
   "cell_type": "code",
   "execution_count": 104,
   "id": "56399190",
   "metadata": {},
   "outputs": [
    {
     "name": "stdout",
     "output_type": "stream",
     "text": [
      "Top 10 words for topic #1:\n",
      "\"farmacy\",\"cream\",\"beauty\",\"honey\",\"farmacy_beauty\",\"product\",\"texture\",\"skin\",\"complimentary\",\"complimentary_farmacy\"\n",
      "\n",
      "\n",
      "Top 10 words for topic #2:\n",
      "\"product\",\"cream\",\"long\",\"little\",\"way\",\"feel\",\"little_long\",\"use\",\"great\",\"good\"\n",
      "\n",
      "\n",
      "Top 10 words for topic #3:\n",
      "\"cream\",\"dark\",\"circle\",\"dark_circle\",\"product\",\"skin\",\"love\",\"light\",\"difference\",\"use\"\n",
      "\n",
      "\n",
      "Top 10 words for topic #4:\n",
      "\"product\",\"cream\",\"skin\",\"day\",\"night\",\"free\",\"feel\",\"dry\",\"great\",\"love\"\n",
      "\n",
      "\n",
      "Top 10 words for topic #5:\n",
      "\"line\",\"fine\",\"fine_line\",\"cream\",\"product\",\"great\",\"serum\",\"circle\",\"dark\",\"difference\"\n",
      "\n",
      "\n"
     ]
    }
   ],
   "source": [
    "# Positive eye care in winter\n",
    "TopicModeling(win_eye_pos)"
   ]
  },
  {
   "cell_type": "code",
   "execution_count": 105,
   "id": "925ab2da",
   "metadata": {},
   "outputs": [
    {
     "name": "stdout",
     "output_type": "stream",
     "text": [
      "Top 10 words for topic #1:\n",
      "\"product\",\"skin\",\"eye\",\"sample\",\"feel\",\"serum\",\"good\",\"free\",\"review\",\"nice\"\n",
      "\n",
      "\n",
      "Top 10 words for topic #2:\n",
      "\"eye\",\"product\",\"dark\",\"circle\",\"cream\",\"line\",\"dark_circle\",\"fine\",\"fine_line\",\"wrinkle\"\n",
      "\n",
      "\n",
      "Top 10 words for topic #3:\n",
      "\"eye\",\"cream\",\"corrective\",\"multi\",\"kiehl\",\"super\",\"anti\",\"product\",\"skin\",\"corrective_anti\"\n",
      "\n",
      "\n",
      "Top 10 words for topic #4:\n",
      "\"eye\",\"way\",\"long\",\"little\",\"product\",\"little_long\",\"circle\",\"dark\",\"week\",\"dark_circle\"\n",
      "\n",
      "\n",
      "Top 10 words for topic #5:\n",
      "\"eye\",\"cream\",\"skin\",\"product\",\"feel\",\"area\",\"great\",\"love\",\"line\",\"use\"\n",
      "\n",
      "\n"
     ]
    }
   ],
   "source": [
    "# Positive eye care in spring\n",
    "TopicModeling(spr_eye_pos)"
   ]
  },
  {
   "cell_type": "code",
   "execution_count": 106,
   "id": "13473cb0",
   "metadata": {},
   "outputs": [
    {
     "name": "stdout",
     "output_type": "stream",
     "text": [
      "Top 10 words for topic #1:\n",
      "\"dark\",\"circle\",\"dark_circle\",\"cream\",\"product\",\"week\",\"difference\",\"wrinkle\",\"area\",\"puffy\"\n",
      "\n",
      "\n",
      "Top 10 words for topic #2:\n",
      "\"product\",\"little\",\"long\",\"way\",\"cream\",\"skin\",\"little_long\",\"great\",\"feel\",\"bit\"\n",
      "\n",
      "\n",
      "Top 10 words for topic #3:\n",
      "\"cream\",\"skin\",\"product\",\"feel\",\"line\",\"love\",\"fine\",\"fine_line\",\"use\",\"makeup\"\n",
      "\n",
      "\n",
      "Top 10 words for topic #4:\n",
      "\"product\",\"influenster\",\"review\",\"free\",\"cream\",\"honest\",\"complimentary\",\"skin\",\"difference\",\"exchange\"\n",
      "\n",
      "\n",
      "Top 10 words for topic #5:\n",
      "\"serum\",\"product\",\"applicator\",\"area\",\"line\",\"fine\",\"fine_line\",\"week\",\"dior\",\"feel\"\n",
      "\n",
      "\n"
     ]
    }
   ],
   "source": [
    "# Positive eye care in summer\n",
    "TopicModeling(sum_eye_pos)"
   ]
  },
  {
   "cell_type": "code",
   "execution_count": 107,
   "id": "402eeb19",
   "metadata": {},
   "outputs": [
    {
     "name": "stdout",
     "output_type": "stream",
     "text": [
      "Top 10 words for topic #1:\n",
      "\"glow\",\"recipe\",\"glow_recipe\",\"cream\",\"product\",\"c\",\"vitamin\",\"gel\",\"texture\",\"area\"\n",
      "\n",
      "\n",
      "Top 10 words for topic #2:\n",
      "\"cream\",\"product\",\"skin\",\"dark\",\"circle\",\"makeup\",\"area\",\"love\",\"great\",\"dark_circle\"\n",
      "\n",
      "\n",
      "Top 10 words for topic #3:\n",
      "\"product\",\"line\",\"puffy\",\"fine\",\"feel\",\"fine_line\",\"morning\",\"day\",\"night\",\"serum\"\n",
      "\n",
      "\n",
      "Top 10 words for topic #4:\n",
      "\"product\",\"free\",\"review\",\"influenster\",\"difference\",\"skin\",\"complimentary\",\"applicator\",\"purpose\",\"use\"\n",
      "\n",
      "\n",
      "Top 10 words for topic #5:\n",
      "\"serum\",\"applicator\",\"feel\",\"product\",\"metal\",\"nice\",\"tip\",\"love\",\"morning\",\"circle\"\n",
      "\n",
      "\n"
     ]
    }
   ],
   "source": [
    "# Positive eye care in fall\n",
    "TopicModeling(fall_eye_pos)"
   ]
  },
  {
   "cell_type": "code",
   "execution_count": 108,
   "id": "cc68892e",
   "metadata": {},
   "outputs": [
    {
     "name": "stdout",
     "output_type": "stream",
     "text": [
      "Top 10 words for topic #1:\n",
      "\"undereye\",\"little\",\"nothing\",\"applicator\",\"nice\",\"cream\",\"time\",\"product\",\"bad\",\"metal\"\n",
      "\n",
      "\n",
      "Top 10 words for topic #2:\n",
      "\"eye\",\"product\",\"cream\",\"week\",\"much\",\"love\",\"serum\",\"review\",\"thing\",\"lot\"\n",
      "\n",
      "\n",
      "Top 10 words for topic #3:\n",
      "\"eye\",\"line\",\"fine\",\"fine_line\",\"anything\",\"month\",\"product\",\"great\",\"cream\",\"dry\"\n",
      "\n",
      "\n",
      "Top 10 words for topic #4:\n",
      "\"eye\",\"skin\",\"difference\",\"feel\",\"concealer\",\"product\",\"month\",\"love\",\"nice\",\"cream\"\n",
      "\n",
      "\n",
      "Top 10 words for topic #5:\n",
      "\"eye\",\"product\",\"skin\",\"circle\",\"day\",\"dark\",\"dark_circle\",\"cream\",\"area\",\"dry\"\n",
      "\n",
      "\n"
     ]
    }
   ],
   "source": [
    "# Negative eye care in winter\n",
    "TopicModeling(win_eye_neg)"
   ]
  },
  {
   "cell_type": "code",
   "execution_count": 109,
   "id": "a60c47a4",
   "metadata": {},
   "outputs": [
    {
     "name": "stdout",
     "output_type": "stream",
     "text": [
      "Top 10 words for topic #1:\n",
      "\"eye\",\"cream\",\"product\",\"skin\",\"dry\",\"review\",\"top\",\"feel\",\"week\",\"wrinkle\"\n",
      "\n",
      "\n",
      "Top 10 words for topic #2:\n",
      "\"line\",\"eye\",\"fine\",\"week\",\"fine_line\",\"difference\",\"product\",\"much\",\"day\",\"use\"\n",
      "\n",
      "\n",
      "Top 10 words for topic #3:\n",
      "\"circle\",\"eye\",\"dark\",\"dark_circle\",\"line\",\"fine_line\",\"fine\",\"product\",\"cream\",\"week\"\n",
      "\n",
      "\n",
      "Top 10 words for topic #4:\n",
      "\"eye\",\"skin\",\"sensitive\",\"product\",\"area\",\"anything\",\"influenster\",\"week\",\"sample\",\"dry\"\n",
      "\n",
      "\n",
      "Top 10 words for topic #5:\n",
      "\"product\",\"eye\",\"day\",\"sample\",\"result\",\"skin\",\"review\",\"serum\",\"ingredient\",\"feel\"\n",
      "\n",
      "\n"
     ]
    }
   ],
   "source": [
    "# Negative eye care in spring\n",
    "TopicModeling(spr_eye_neg)"
   ]
  },
  {
   "cell_type": "code",
   "execution_count": 110,
   "id": "6828eb3a",
   "metadata": {},
   "outputs": [
    {
     "name": "stdout",
     "output_type": "stream",
     "text": [
      "Top 10 words for topic #1:\n",
      "\"product\",\"good\",\"eye\",\"day\",\"use\",\"nice\",\"ingredient\",\"week\",\"night\",\"difference\"\n",
      "\n",
      "\n",
      "Top 10 words for topic #2:\n",
      "\"product\",\"time\",\"use\",\"applicator\",\"influenster\",\"week\",\"review\",\"skin\",\"difference\",\"texture\"\n",
      "\n",
      "\n",
      "Top 10 words for topic #3:\n",
      "\"eye\",\"product\",\"serum\",\"dark\",\"circle\",\"fragrance\",\"scent\",\"price\",\"applicator\",\"week\"\n",
      "\n",
      "\n",
      "Top 10 words for topic #4:\n",
      "\"eye\",\"product\",\"skin\",\"cream\",\"dry\",\"fine\",\"nothing\",\"line\",\"month\",\"area\"\n",
      "\n",
      "\n",
      "Top 10 words for topic #5:\n",
      "\"eye\",\"cream\",\"skin\",\"product\",\"sensitive\",\"ingredient\",\"free\",\"use\",\"texture\",\"time\"\n",
      "\n",
      "\n"
     ]
    }
   ],
   "source": [
    "# Negative eye care in summer\n",
    "TopicModeling(sum_eye_neg)"
   ]
  },
  {
   "cell_type": "code",
   "execution_count": 95,
   "id": "7d1779c4",
   "metadata": {},
   "outputs": [
    {
     "name": "stdout",
     "output_type": "stream",
     "text": [
      "Top 10 words for topic #1:\n",
      "\"product\",\"eye\",\"feel\",\"way\",\"skin\",\"nice\",\"applicator\",\"little\",\"much\",\"difference\"\n",
      "\n",
      "\n",
      "Top 10 words for topic #2:\n",
      "\"product\",\"much\",\"work\",\"skin\",\"dark_circle\",\"dark\",\"circle\",\"difference\",\"nothing\",\"fine_line\"\n",
      "\n",
      "\n",
      "Top 10 words for topic #3:\n",
      "\"eye\",\"product\",\"cream\",\"dark\",\"dark_circle\",\"circle\",\"area\",\"feel\",\"notice\",\"time\"\n",
      "\n",
      "\n",
      "Top 10 words for topic #4:\n",
      "\"eye\",\"week\",\"review\",\"product\",\"change\",\"cream\",\"skin\",\"sensitive\",\"use\",\"great\"\n",
      "\n",
      "\n",
      "Top 10 words for topic #5:\n",
      "\"product\",\"line\",\"eye\",\"fine\",\"nothing\",\"fine_line\",\"difference\",\"much\",\"week\",\"lash\"\n",
      "\n",
      "\n"
     ]
    }
   ],
   "source": [
    "# Negative eye care in fall\n",
    "TopicModeling(fall_eye_neg)"
   ]
  },
  {
   "cell_type": "code",
   "execution_count": null,
   "id": "a78f7dc6",
   "metadata": {},
   "outputs": [],
   "source": []
  }
 ],
 "metadata": {
  "kernelspec": {
   "display_name": "Python 3 (ipykernel)",
   "language": "python",
   "name": "python3"
  },
  "language_info": {
   "codemirror_mode": {
    "name": "ipython",
    "version": 3
   },
   "file_extension": ".py",
   "mimetype": "text/x-python",
   "name": "python",
   "nbconvert_exporter": "python",
   "pygments_lexer": "ipython3",
   "version": "3.11.5"
  }
 },
 "nbformat": 4,
 "nbformat_minor": 5
}
